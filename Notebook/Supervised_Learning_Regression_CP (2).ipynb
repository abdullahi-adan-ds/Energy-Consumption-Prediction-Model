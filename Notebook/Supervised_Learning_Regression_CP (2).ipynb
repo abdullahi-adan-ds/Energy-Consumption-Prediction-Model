{
  "nbformat": 4,
  "nbformat_minor": 0,
  "metadata": {
    "colab": {
      "provenance": []
    },
    "kernelspec": {
      "name": "python3",
      "display_name": "Python 3"
    },
    "language_info": {
      "name": "python"
    }
  },
  "cells": [
    {
      "cell_type": "markdown",
      "source": [
        "# 1. Load the Data"
      ],
      "metadata": {
        "id": "ubHrIiXyeH8s"
      }
    },
    {
      "cell_type": "code",
      "execution_count": null,
      "metadata": {
        "id": "CADeRSdbi5K_"
      },
      "outputs": [],
      "source": [
        "import pandas as pd\n",
        "import numpy as np\n",
        "from sklearn.model_selection import train_test_split\n",
        "from sklearn.linear_model import LogisticRegression\n",
        "from sklearn.metrics import accuracy_score\n",
        "from sklearn.metrics import mean_squared_error, mean_absolute_error, r2_score\n",
        "from sklearn.preprocessing import PolynomialFeatures"
      ]
    },
    {
      "cell_type": "code",
      "source": [
        "df = pd.read_csv('/content/5G_energy_consumption_dataset.csv')"
      ],
      "metadata": {
        "id": "ry7nRJhekEDp"
      },
      "execution_count": null,
      "outputs": []
    },
    {
      "cell_type": "code",
      "source": [
        "df.head()"
      ],
      "metadata": {
        "id": "SzL15KRLkibI",
        "collapsed": true
      },
      "execution_count": null,
      "outputs": []
    },
    {
      "cell_type": "code",
      "source": [
        "df.info()"
      ],
      "metadata": {
        "id": "wIKD0WvtklZv",
        "collapsed": true
      },
      "execution_count": null,
      "outputs": []
    },
    {
      "cell_type": "markdown",
      "source": [
        "# 2. Data Pre-Processing & EDA"
      ],
      "metadata": {
        "id": "Kmj0SvsSeU4J"
      }
    },
    {
      "cell_type": "code",
      "source": [
        "df.describe()"
      ],
      "metadata": {
        "id": "5Ro5-9YPkoCh",
        "collapsed": true
      },
      "execution_count": null,
      "outputs": []
    },
    {
      "cell_type": "code",
      "source": [
        "#check for misssing data\n",
        "df.isnull().sum()"
      ],
      "metadata": {
        "id": "qn6V0VyclNJq"
      },
      "execution_count": null,
      "outputs": []
    },
    {
      "cell_type": "code",
      "source": [
        "#check for duplicates\n",
        "df.duplicated().sum()"
      ],
      "metadata": {
        "id": "Dm4AREWGlUr_"
      },
      "execution_count": null,
      "outputs": []
    },
    {
      "cell_type": "code",
      "source": [
        "#check for outliers\n",
        "numeric_cols = df.select_dtypes(include='number')\n",
        "\n",
        "for col in numeric_cols:\n",
        "    Q1 = df[col].quantile(0.25)\n",
        "    Q3 = df[col].quantile(0.75)\n",
        "    IQR = Q3 - Q1\n",
        "    outliers = df[(df[col] < Q1 - 1.5 * IQR) | (df[col] > Q3 + 1.5 * IQR)]\n",
        "    print(f\"{col}: {len(outliers)} outliers\")"
      ],
      "metadata": {
        "id": "60Ooe1N6lcPf"
      },
      "execution_count": null,
      "outputs": []
    },
    {
      "cell_type": "code",
      "source": [
        "def drop_outliers_iqr(df):\n",
        "    numeric_cols = df.select_dtypes(include='number')\n",
        "    for col in numeric_cols:\n",
        "        Q1 = df[col].quantile(0.25)\n",
        "        Q3 = df[col].quantile(0.75)\n",
        "        IQR = Q3 - Q1\n",
        "        lower_bound = Q1 - 1.5 * IQR\n",
        "        upper_bound = Q3 + 1.5 * IQR\n",
        "        df = df[(df[col] >= lower_bound) & (df[col] <= upper_bound)]\n",
        "    return df\n",
        "\n",
        "# Apply to your data\n",
        "data_clean = drop_outliers_iqr(df)\n"
      ],
      "metadata": {
        "id": "QnGASvuqpDDf"
      },
      "execution_count": null,
      "outputs": []
    },
    {
      "cell_type": "code",
      "source": [
        "data_clean.info()"
      ],
      "metadata": {
        "id": "dxdC5GIJpLf1"
      },
      "execution_count": null,
      "outputs": []
    },
    {
      "cell_type": "code",
      "source": [
        "#encode categorical features\n",
        "df_encoded = pd.get_dummies(data_clean, columns=['Time', 'BS'])\n",
        "print(df_encoded.head())"
      ],
      "metadata": {
        "id": "wOTIBUaunMcv"
      },
      "execution_count": null,
      "outputs": []
    },
    {
      "cell_type": "code",
      "source": [
        "#create a profling report on the data\n",
        "!pip install ydata-profiling\n",
        "from ydata_profiling  import ProfileReport\n",
        "prof=ProfileReport(data_clean)\n",
        "prof.to_file(output_file='output.html')"
      ],
      "metadata": {
        "id": "VvePyTCsn56q",
        "collapsed": true
      },
      "execution_count": null,
      "outputs": []
    },
    {
      "cell_type": "code",
      "source": [
        "data_clean.shape[0]"
      ],
      "metadata": {
        "id": "-4t1w2RU1vE6"
      },
      "execution_count": null,
      "outputs": []
    },
    {
      "cell_type": "markdown",
      "source": [
        "# 3. Build the Model & Evaluate"
      ],
      "metadata": {
        "id": "kOvMgiA_em7i"
      }
    },
    {
      "cell_type": "code",
      "source": [
        "\n",
        "from sklearn.model_selection import train_test_split\n",
        "from sklearn.preprocessing import StandardScaler\n",
        "from sklearn.ensemble import RandomForestRegressor\n",
        "from sklearn.metrics import mean_squared_error, r2_score\n",
        "import pandas as pd\n",
        "\n",
        "# Target and features\n",
        "y = data_clean['Energy']\n",
        "X = pd.get_dummies(data_clean.drop('Energy', axis=1))  # Encode categorical columns\n",
        "\n",
        "# Handle missing values\n",
        "X = X.fillna(X.mean())\n",
        "\n",
        "# Train-test split\n",
        "X_train, X_test, y_train, y_test = train_test_split(X, y, test_size=0.2, random_state=42)\n",
        "\n",
        "# Scale features\n",
        "scaler = StandardScaler()\n",
        "X_train_scaled = scaler.fit_transform(X_train)\n",
        "X_test_scaled = scaler.transform(X_test)\n",
        "\n",
        "# Random Forest model\n",
        "model = RandomForestRegressor(n_estimators=50, max_depth=10, random_state=42)  # Fewer trees, limited depth\n",
        "model.fit(X_train_scaled, y_train)\n",
        "\n",
        "# Make predictions\n",
        "predictions = model.predict(X_test_scaled)\n",
        "\n",
        "print(\"Root Mean Squared Error (RMSE):\", root_mean_squared_error)\n",
        "# Evaluate\n",
        "print(\"Mean Squared Error (MSE):\", mean_squared_error(y_test, predictions))\n",
        "print(\"R-squared Score:\", r2_score(y_test, predictions))"
      ],
      "metadata": {
        "id": "fjv1tARMtR2x"
      },
      "execution_count": null,
      "outputs": []
    },
    {
      "cell_type": "code",
      "source": [
        "root_mean_squared_error = np.sqrt(mean_squared_error(y_test, predictions))\n",
        "print(root_mean_squared_error)"
      ],
      "metadata": {
        "id": "mcoX1Gq1CbDb"
      },
      "execution_count": null,
      "outputs": []
    },
    {
      "cell_type": "code",
      "source": [
        "# Predict energy price for new data\n",
        "\n",
        "new_data = pd.DataFrame({\n",
        "    'Time': [20230103140000],\n",
        "    'BS': ['B_0'],\n",
        "    'load': [0.999],\n",
        "    'ESMODE': [0],\n",
        "    'TXpower': [8.50432]\n",
        "})\n",
        "new_data = pd.get_dummies(new_data)  # Encode categorical features\n",
        "new_data = new_data.reindex(columns=X.columns, fill_value=0)  # Align columns with training data\n",
        "new_data_scaled = scaler.transform(new_data)  # Scale the new data\n",
        "new_prediction = model.predict(new_data_scaled)  # Predict energy price\n",
        "print(\"Predicted Energy Price for New Data:\", new_prediction[0])"
      ],
      "metadata": {
        "id": "HhkUPHnX_CTt"
      },
      "execution_count": null,
      "outputs": []
    },
    {
      "cell_type": "code",
      "source": [
        "model.score(X_test_scaled, y_test)"
      ],
      "metadata": {
        "id": "r0ABfy5QBTRY"
      },
      "execution_count": null,
      "outputs": []
    }
  ]
}